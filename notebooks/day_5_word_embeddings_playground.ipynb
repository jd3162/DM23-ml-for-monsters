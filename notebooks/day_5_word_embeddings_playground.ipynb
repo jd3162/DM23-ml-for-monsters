{
 "cells": [
  {
   "cell_type": "markdown",
   "id": "47280f5d",
   "metadata": {},
   "source": [
    "# Word Embedding Playground"
   ]
  },
  {
   "cell_type": "code",
   "execution_count": 1,
   "id": "927f2776",
   "metadata": {},
   "outputs": [
    {
     "name": "stderr",
     "output_type": "stream",
     "text": [
      "2023-08-02 18:19:28.645210: I tensorflow/core/platform/cpu_feature_guard.cc:182] This TensorFlow binary is optimized to use available CPU instructions in performance-critical operations.\n",
      "To enable the following instructions: AVX2 FMA, in other operations, rebuild TensorFlow with the appropriate compiler flags.\n",
      "2023-08-02 18:19:29.395391: W tensorflow/compiler/tf2tensorrt/utils/py_utils.cc:38] TF-TRT Warning: Could not find TensorRT\n"
     ]
    }
   ],
   "source": [
    "import spacy\n",
    "import gensim.downloader as api\n",
    "import gensim\n",
    "import csv\n",
    "import re\n",
    "\n",
    "\n",
    "import pandas as pd\n",
    "import matplotlib\n",
    "import matplotlib.pyplot as plt\n",
    "\n",
    "from sklearn.manifold import TSNE\n",
    "\n",
    "from bs4 import *\n",
    "import requests"
   ]
  },
  {
   "cell_type": "markdown",
   "id": "4c6c78e8",
   "metadata": {},
   "source": [
    "We can mess with word embeddings. "
   ]
  },
  {
   "cell_type": "markdown",
   "id": "96cd2f32",
   "metadata": {},
   "source": [
    "# Option 1: Our embeddings"
   ]
  },
  {
   "cell_type": "markdown",
   "id": "0d68f194",
   "metadata": {},
   "source": [
    "We can use the embeddings that we trained! Or that we will train!"
   ]
  },
  {
   "cell_type": "markdown",
   "id": "7d9ea604",
   "metadata": {},
   "source": [
    "# Option 2: Pre-trained embeddings"
   ]
  },
  {
   "cell_type": "markdown",
   "id": "45efda3d",
   "metadata": {},
   "source": [
    "Alternately, we can use pretrained vectors or embeddings downloaded from the internet. We can use Word2Vec, or GloVe, which is a model that came out a few years later and works very well. "
   ]
  },
  {
   "cell_type": "markdown",
   "id": "3fc547a4",
   "metadata": {},
   "source": [
    "We use `gensim` which is a great library for working with embeddings and training topic models. It has some "
   ]
  },
  {
   "cell_type": "code",
   "execution_count": 2,
   "id": "90503af6",
   "metadata": {},
   "outputs": [],
   "source": [
    "info = api.info()"
   ]
  },
  {
   "cell_type": "markdown",
   "id": "e778d4bb",
   "metadata": {},
   "source": [
    "Print out available models (i.e. embeddings)"
   ]
  },
  {
   "cell_type": "code",
   "execution_count": 3,
   "id": "6786f264",
   "metadata": {},
   "outputs": [
    {
     "name": "stdout",
     "output_type": "stream",
     "text": [
      "__testing_word2vec-matrix-synopsis (-1 records): [THIS IS ONLY FOR TESTING] Word vecrors ...\n",
      "conceptnet-numberbatch-17-06-300 (1917247 records): ConceptNet Numberbatch consists of state...\n",
      "fasttext-wiki-news-subwords-300 (999999 records): 1 million word vectors trained on Wikipe...\n",
      "glove-twitter-100 (1193514 records): Pre-trained vectors based on  2B tweets,...\n",
      "glove-twitter-200 (1193514 records): Pre-trained vectors based on 2B tweets, ...\n",
      "glove-twitter-25 (1193514 records): Pre-trained vectors based on 2B tweets, ...\n",
      "glove-twitter-50 (1193514 records): Pre-trained vectors based on 2B tweets, ...\n",
      "glove-wiki-gigaword-100 (400000 records): Pre-trained vectors based on Wikipedia 2...\n",
      "glove-wiki-gigaword-200 (400000 records): Pre-trained vectors based on Wikipedia 2...\n",
      "glove-wiki-gigaword-300 (400000 records): Pre-trained vectors based on Wikipedia 2...\n",
      "glove-wiki-gigaword-50 (400000 records): Pre-trained vectors based on Wikipedia 2...\n",
      "word2vec-google-news-300 (3000000 records): Pre-trained vectors trained on a part of...\n",
      "word2vec-ruscorpora-300 (184973 records): Word2vec Continuous Skipgram vectors tra...\n"
     ]
    }
   ],
   "source": [
    "for model_name, model_data in sorted(info['models'].items()):\n",
    "    print(\n",
    "        '%s (%d records): %s' % (\n",
    "            model_name,\n",
    "            model_data.get('num_records', -1),\n",
    "            model_data['description'][:40] + '...',\n",
    "        )\n",
    "    )"
   ]
  },
  {
   "cell_type": "markdown",
   "id": "bc12f52f",
   "metadata": {},
   "source": [
    "The first time you load a new dataset it will take a while to download, and the files can be quite large."
   ]
  },
  {
   "cell_type": "code",
   "execution_count": 4,
   "id": "c76360a9",
   "metadata": {},
   "outputs": [],
   "source": [
    "\n",
    "# keep this commented out - I'm using this dataset \n",
    "#model_news = api.load(\"word2vec-google-news-300\")\n",
    "\n",
    "# You should use these embeddings, and compare your results with mine!\n",
    "model_wiki =  api.load(\"glove-wiki-gigaword-50\")"
   ]
  },
  {
   "cell_type": "markdown",
   "id": "d44b57b1",
   "metadata": {},
   "source": [
    "## Option 3: Train Embeddings"
   ]
  },
  {
   "cell_type": "markdown",
   "id": "8374a3f0",
   "metadata": {},
   "source": [
    "You can also train embeddings from a saved corpus. \n",
    "\n",
    " For our experiments, we're going to use the abstracts of all ArXiv papers in the category cs.CL (computation and language) that were published before mid-April 2021 — a total of around 25,000 documents. We tokenize these abstracts with spaCy.\n",
    "\n",
    "We define a wrapper to deal with csv data with one column.\n",
    "\n",
    "Each column contains an abstract of an NLP paper. \n",
    "\n",
    "If your csv looks different, you will have to change this function to get the right column. "
   ]
  },
  {
   "cell_type": "code",
   "execution_count": 5,
   "id": "db35d594",
   "metadata": {},
   "outputs": [],
   "source": [
    "class Corpus(object):\n",
    "\n",
    "    def __init__(self, filename):\n",
    "        self.filename = filename\n",
    "        self.nlp = spacy.blank(\"en\")\n",
    "        \n",
    "    def __iter__(self):\n",
    "        with open(self.filename, \"r\") as i:\n",
    "            reader = csv.reader(i, delimiter=\",\")\n",
    "            for _, abstract in reader:\n",
    "                tokens = [t.text.lower() for t in self.nlp(abstract)]\n",
    "                yield tokens\n",
    "                            "
   ]
  },
  {
   "cell_type": "code",
   "execution_count": 6,
   "id": "406c88d6",
   "metadata": {},
   "outputs": [],
   "source": [
    "documents = Corpus(\"../data/arxiv.csv\")"
   ]
  },
  {
   "cell_type": "code",
   "execution_count": 7,
   "id": "f6d6c539",
   "metadata": {},
   "outputs": [],
   "source": [
    "arxiv_model = gensim.models.Word2Vec(documents, min_count=50, window=5, vector_size=100)\n",
    "arxiv_model.save(\"word2vec.arxiv.model\")"
   ]
  },
  {
   "cell_type": "code",
   "execution_count": 8,
   "id": "ba82c67e",
   "metadata": {},
   "outputs": [],
   "source": [
    "arxiv_model = arxiv_model.wv"
   ]
  },
  {
   "cell_type": "markdown",
   "id": "8a4d0653",
   "metadata": {},
   "source": [
    "When we train our word embeddings, gensim allows us to set a number of parameters. The most important of these are min_count, window, vector_size and sg\n",
    "\n",
    "* `min_count` is the minimum frequency of the words in our corpus. For infrequent words, we just don't have enough information to train reliable word embeddings. It therefore makes sense to set this minimum frequency to at least 10. In these experiments, we'll set it to 100 to limit the size of our model even more.\n",
    "* `window` is the number of words to the left and to the right that make up the context that word2vec will take into account.\n",
    "* `vector_size` is the dimensionality of the word vectors. This is generally between 100 and 1000. This dimensionality often forces us to make a trade-off: embeddings with a higher dimensionality are able to model more information, but also need more data to train.\n",
    "* `sg`: there are two algorithms to train word2vec: skip-gram and CBOW. Skip-gram tries to predict the context on the basis of the target word; CBOW tries to find the target on the basis of the context. By default, Gensim uses CBOW (sg=0).\n"
   ]
  },
  {
   "cell_type": "markdown",
   "id": "4f4ae13e",
   "metadata": {},
   "source": [
    "# Playing with Embeddings"
   ]
  },
  {
   "cell_type": "markdown",
   "id": "14175dfe",
   "metadata": {},
   "source": [
    "Let's take a look at the trained model. The word embeddings are on its wv attribute, and we can access them by the using the token as key. For example, here is the embedding for nlp, with the requested 100 dimensions."
   ]
  },
  {
   "cell_type": "markdown",
   "id": "b49e670b",
   "metadata": {},
   "source": [
    "We can also easily find the similarity between two words. Similarity is measured as the cosine between the two word embeddings, and therefore ranges between -1 and +1. The higher the cosine, the more similar two words are. As expected, the figures below show that nmt (neural machine translation) is closer to smt (statistical machine translation) than to ner (named entity recognition)."
   ]
  },
  {
   "cell_type": "code",
   "execution_count": 9,
   "id": "d9a7b6c9",
   "metadata": {},
   "outputs": [],
   "source": [
    "# change to model = whatever vectors you have loaded to explore them in the code below\n",
    "\n",
    "model = model_wiki"
   ]
  },
  {
   "cell_type": "code",
   "execution_count": 10,
   "id": "6dd7ee6e",
   "metadata": {},
   "outputs": [
    {
     "name": "stdout",
     "output_type": "stream",
     "text": [
      "0.53674686\n",
      "0.43872723\n"
     ]
    }
   ],
   "source": [
    "\n",
    "\n",
    "print(model.similarity(\"language\", \"logic\"))\n",
    "print(model.similarity(\"language\", \"play\"))\n",
    "\n"
   ]
  },
  {
   "cell_type": "markdown",
   "id": "f21891e8",
   "metadata": {},
   "source": [
    "\n",
    "\n",
    "In a similar vein, we can find the words that are most similar to a target word. The words with the most similar embedding to bert are all semantically related to it: other types of pretrained models such as roberta, mbert, xlm, as well as the more general model type BERT represents (transformer and transformers), and more generally related words (pretrained)"
   ]
  },
  {
   "cell_type": "code",
   "execution_count": 11,
   "id": "3a2c9d00",
   "metadata": {},
   "outputs": [
    {
     "data": {
      "text/plain": [
       "[('dream', 0.8429608941078186),\n",
       " ('life', 0.8403438925743103),\n",
       " ('dreams', 0.8398564457893372),\n",
       " ('loves', 0.8361135125160217),\n",
       " ('me', 0.8351817727088928),\n",
       " ('my', 0.822745144367218),\n",
       " ('mind', 0.8217629194259644),\n",
       " ('loving', 0.8107607364654541),\n",
       " ('wonder', 0.8073382377624512),\n",
       " ('soul', 0.8014912605285645)]"
      ]
     },
     "execution_count": 11,
     "metadata": {},
     "output_type": "execute_result"
    }
   ],
   "source": [
    "model.similar_by_word(\"love\", topn=10)"
   ]
  },
  {
   "cell_type": "markdown",
   "id": "a4b1212b",
   "metadata": {},
   "source": [
    "Interestingly, we can look for words that are similar to a set of words and dissimilar to another set of words at the same time. This allows us to look for analogies of the type BERT is to a transformer like an LSTM is to .... Our embedding model correctly predicts that LSTMs are a type of RNN, just like BERT is a particular type of transformer.\n",
    "\n",
    "    > solves\n",
    "    > 3 : 1 :: 2 : _____\n",
    "    > man : king :: woman : _______"
   ]
  },
  {
   "cell_type": "code",
   "execution_count": 12,
   "id": "2f83bda8",
   "metadata": {},
   "outputs": [
    {
     "data": {
      "text/plain": [
       "[('queen', 0.8523604273796082)]"
      ]
     },
     "execution_count": 12,
     "metadata": {},
     "output_type": "execute_result"
    }
   ],
   "source": [
    "model.most_similar(positive=[\"king\", \"woman\"], negative=[\"man\"], topn=1)"
   ]
  },
  {
   "cell_type": "markdown",
   "id": "bbfef183",
   "metadata": {},
   "source": [
    "#### Exercise: solve the analogy with your vectors!\n",
    "    \n",
    "    > pasta : pizza :: poutine : _____"
   ]
  },
  {
   "cell_type": "code",
   "execution_count": 13,
   "id": "847b6872",
   "metadata": {},
   "outputs": [
    {
     "data": {
      "text/plain": [
       "[('née', 0.7372882962226868),\n",
       " ('emily', 0.7278621196746826),\n",
       " ('ann', 0.7058978080749512),\n",
       " ('dorothy', 0.7048125863075256),\n",
       " ('jane', 0.702264130115509),\n",
       " ('mary', 0.6843420267105103),\n",
       " ('hannah', 0.6798741817474365),\n",
       " ('married', 0.6779502630233765),\n",
       " ('wheeler', 0.6721650958061218),\n",
       " ('alice', 0.6719266176223755)]"
      ]
     },
     "execution_count": 13,
     "metadata": {},
     "output_type": "execute_result"
    }
   ],
   "source": [
    "model.most_similar(positive=[\"carpenter\", \"woman\"], negative=[\"man\"], topn=10)"
   ]
  },
  {
   "cell_type": "markdown",
   "id": "a861ebab",
   "metadata": {},
   "source": [
    "## Disambiguation"
   ]
  },
  {
   "cell_type": "markdown",
   "id": "95b0ce8c",
   "metadata": {},
   "source": [
    "\n",
    "\n",
    "Similarly, we can also zoom in on one of the meanings of ambiguous words. For example, in NLP tree has a very specific meaning, which is obvious from its nearest neighbours constituency, parse, dependency and syntax.\n"
   ]
  },
  {
   "cell_type": "code",
   "execution_count": 14,
   "id": "b73d09cc",
   "metadata": {},
   "outputs": [
    {
     "data": {
      "text/plain": [
       "[('16-seat', 0.620692253112793)]"
      ]
     },
     "execution_count": 14,
     "metadata": {},
     "output_type": "execute_result"
    }
   ],
   "source": [
    "model.most_similar(positive=[\"pizza\", \"poutine\"], negative=[\"pasta\"], topn=1)"
   ]
  },
  {
   "cell_type": "code",
   "execution_count": 15,
   "id": "3781bf4e",
   "metadata": {},
   "outputs": [
    {
     "data": {
      "text/plain": [
       "[('guitar', 0.8540371060371399),\n",
       " ('hop', 0.8314269781112671),\n",
       " ('pop', 0.8143052458763123),\n",
       " ('funk', 0.8056981563568115),\n",
       " ('drum', 0.8033528923988342),\n",
       " ('reggae', 0.8014651536941528),\n",
       " ('synth', 0.7978379130363464),\n",
       " ('jazz', 0.7933390140533447),\n",
       " ('riffs', 0.7886112332344055),\n",
       " ('music', 0.7871854901313782)]"
      ]
     },
     "execution_count": 15,
     "metadata": {},
     "output_type": "execute_result"
    }
   ],
   "source": [
    "model.most_similar(positive=[\"techno\", \"bass\"], topn=10)"
   ]
  },
  {
   "cell_type": "markdown",
   "id": "d0aa5364",
   "metadata": {},
   "source": [
    "\n",
    "\n",
    "However, if we specify we're looking for words that are similar to tree, but dissimilar to forest, suddenly it gives a different, more domesticated image of a tree.\n"
   ]
  },
  {
   "cell_type": "code",
   "execution_count": 16,
   "id": "9c10c2bd",
   "metadata": {},
   "outputs": [
    {
     "data": {
      "text/plain": [
       "[('petaled', 0.6071890592575073),\n",
       " ('petal', 0.5861560702323914),\n",
       " ('twig', 0.5858857035636902),\n",
       " ('kohv', 0.5819833874702454),\n",
       " ('candelabra', 0.5799810290336609),\n",
       " ('hamster', 0.5796052813529968),\n",
       " ('clamshell', 0.5744640827178955),\n",
       " ('cutie', 0.5633147954940796),\n",
       " ('pretzel', 0.5588427782058716),\n",
       " ('tse-tung', 0.5569635033607483)]"
      ]
     },
     "execution_count": 16,
     "metadata": {},
     "output_type": "execute_result"
    }
   ],
   "source": [
    "model.most_similar(positive=[\"tree\"], negative=[\"forest\"], topn=10)"
   ]
  },
  {
   "cell_type": "markdown",
   "id": "d4915ba6",
   "metadata": {},
   "source": [
    "\n",
    "\n",
    "Finally, we can present the word2vec model with a list of words and ask it to identify the odd one out. It then uses the word embeddings to identify the word that is least similar to the other ones. For example, in the list lstm cnn gru svm transformer, it correctly identifies svm as the only non-neural model. In the list bert word2vec gpt-2 roberta xlnet, it correctly singles out word2vec as the only non-transormer model. In word2vec bert glove fasttext elmo, bert is singled out as the only transformer.\n"
   ]
  },
  {
   "cell_type": "code",
   "execution_count": 17,
   "id": "985cbb7e",
   "metadata": {},
   "outputs": [
    {
     "name": "stdout",
     "output_type": "stream",
     "text": [
      "effervescent\n",
      "bureaucracy\n",
      "elmo\n"
     ]
    }
   ],
   "source": [
    "print(model.doesnt_match(\"effervescent bubbly sparkling champagne\".split()))\n",
    "print(model.doesnt_match(\"monarchy democracy bureaucracy communism socialism\".split()))\n",
    "print(model.doesnt_match(\"bert ernie elmo barney\".split()))"
   ]
  },
  {
   "cell_type": "markdown",
   "id": "a5d100b2",
   "metadata": {},
   "source": [
    "# Plotting Embeddings"
   ]
  },
  {
   "cell_type": "markdown",
   "id": "c68bf5d6",
   "metadata": {},
   "source": [
    "\n",
    "\n",
    "Let's now visualize some of our embeddings. To plot embeddings with a dimensionality of 100 or more, we first need to map them to a dimensionality of 2. We do this with the popular t-SNE method. T-SNE, short for t-distributed Stochastic Neighbor Embedding, helps us visualize high-dimensional data by mapping similar data to nearby points and dissimilar data to distance points in the low-dimensional space.\n",
    "\n",
    "T-SNE is present in Scikit-learn. To run it, we just have to specify the number of dimensions we'd like to map the data to (n_components), and the similarity metric that t-SNE should use to compute the similarity between two data points (metric). We're going to map to 2 dimensions and use the cosine as our similarity metric. Additionally, we use PCA as an initialization method to remove some noise and speed up computation. The Scikit-learn user guide contains some additional tips for optimizing performance.\n",
    "\n",
    "Plotting all the embeddings in our vector space would result in a very crowded figure where the labels are hardly legible. Therefore we'll focus on a subset of embeddings by selecting the 200 most similar words to a target word.\n",
    "\n"
   ]
  },
  {
   "cell_type": "code",
   "execution_count": 18,
   "id": "5e1a66fa",
   "metadata": {},
   "outputs": [],
   "source": [
    "\n",
    "# list of words to map\n",
    "target_word = \"tranquil\"\n",
    "selected_words = [w[0] for w in model.most_similar(positive=[target_word], topn=100)] + [target_word]\n",
    "\n",
    "# list of embeddings for our target words\n",
    "embeddings = [model[w] for w in selected_words] + model[\"tranquil\"]\n",
    "\n",
    "# 2-D reduction of embeddings\n",
    "mapped_embeddings = TSNE(n_components=2, metric='cosine', init='pca').fit_transform(embeddings)\n"
   ]
  },
  {
   "cell_type": "markdown",
   "id": "352c9f9d",
   "metadata": {},
   "source": [
    "\n",
    "If we take bert as our target word, the figure shows some interesting patterns. In the immediate vicinity of bert, we find the similar transformer models that we already identified as its nearest neighbours earlier: xlm, mbert, gpt-2, and so on. Other parts of the picture have equally informative clusters of NLP tasks and benchmarks (squad and glue), languages (german and english), neural-network architectures (lstm, gru, etc.), embedding types (word2vec, glove, fasttext, elmo), etc.\n"
   ]
  },
  {
   "cell_type": "code",
   "execution_count": 19,
   "id": "b849d3a1",
   "metadata": {},
   "outputs": [
    {
     "data": {
      "image/png": "[encoded data removed]",
      "text/plain": [
       "<Figure size 2000x2000 with 1 Axes>"
      ]
     },
     "metadata": {},
     "output_type": "display_data"
    }
   ],
   "source": [
    "%matplotlib inline\n",
    "\n",
    "\n",
    "plt.figure(figsize=(20,20))\n",
    "x = mapped_embeddings[:,0]\n",
    "y = mapped_embeddings[:,1]\n",
    "plt.scatter(x, y)\n",
    "\n",
    "\n",
    "# add labels to our map visualization\n",
    "for i, txt in enumerate(selected_words):\n",
    "    plt.annotate(txt, (x[i], y[i]))"
   ]
  },
  {
   "cell_type": "markdown",
   "id": "f834f87a",
   "metadata": {},
   "source": [
    "# Compare to Twitter"
   ]
  },
  {
   "cell_type": "markdown",
   "id": "bd85179c",
   "metadata": {},
   "source": [
    "Here are 50 dimension GloVe vectors from twitter. Use these for the exercises below."
   ]
  },
  {
   "cell_type": "code",
   "execution_count": 20,
   "id": "6c4b6d30",
   "metadata": {},
   "outputs": [],
   "source": [
    "# download the model and return as object ready for use\n",
    "# embeddings_glove_twitter = api.load(\"glove-twitter-25\")\n",
    "model_glove_twitter = api.load(\"glove-twitter-100\")\n",
    "\n"
   ]
  },
  {
   "cell_type": "markdown",
   "id": "a7f3b73c",
   "metadata": {},
   "source": [
    "## Exercise: Semantic Similarity\n",
    "\n",
    "\n",
    "What is the semantic similarity between 'meaning' and 'interpretation' in twitter space?\n",
    "What about meaning and extract?\n",
    "\n",
    "How does this compare to the arxiv embeddings?"
   ]
  },
  {
   "cell_type": "code",
   "execution_count": 21,
   "id": "a53f8172-28e0-4509-a953-7be7e2608749",
   "metadata": {},
   "outputs": [],
   "source": [
    "model2 = model_glove_twitter"
   ]
  },
  {
   "cell_type": "code",
   "execution_count": 22,
   "id": "a2525dd3",
   "metadata": {},
   "outputs": [
    {
     "name": "stdout",
     "output_type": "stream",
     "text": [
      "0.53674686\n",
      "0.5545392\n"
     ]
    }
   ],
   "source": [
    "# answer here\n",
    "#\n",
    "#\n",
    "print(model.similarity(\"language\", \"logic\"))\n",
    "print(model2.similarity(\"language\", \"logic\"))\n"
   ]
  },
  {
   "cell_type": "markdown",
   "id": "86e1d497",
   "metadata": {},
   "source": [
    "Pick two more concepts and compare their cosine similarity in two different vector space models"
   ]
  },
  {
   "cell_type": "markdown",
   "id": "77e4303c",
   "metadata": {},
   "source": [
    "## Exercise: Near Neighbors\n",
    "\n",
    "What are the nearest neighbors of these concepts?"
   ]
  },
  {
   "cell_type": "code",
   "execution_count": 23,
   "id": "42296ff5",
   "metadata": {},
   "outputs": [
    {
     "data": {
      "text/plain": [
       "[('joy', 0.699312150478363),\n",
       " ('experience', 0.662712037563324),\n",
       " ('great', 0.6603899598121643),\n",
       " ('enjoy', 0.6581634283065796),\n",
       " ('indeed', 0.650480329990387),\n",
       " ('mind', 0.646000862121582),\n",
       " ('wonderful', 0.6444939374923706),\n",
       " ('loving', 0.6407820582389832),\n",
       " ('yours', 0.6406493186950684),\n",
       " ('bliss', 0.6362617611885071)]"
      ]
     },
     "execution_count": 23,
     "metadata": {},
     "output_type": "execute_result"
    }
   ],
   "source": [
    "model2.similar_by_word(\"pleasure\", topn=10)"
   ]
  },
  {
   "cell_type": "markdown",
   "id": "4aa6366b",
   "metadata": {},
   "source": [
    "## Exercise: Analogy\n",
    "\n",
    "How does twitter solve the tree analogy?"
   ]
  },
  {
   "cell_type": "code",
   "execution_count": 24,
   "id": "dd171025",
   "metadata": {},
   "outputs": [
    {
     "ename": "KeyError",
     "evalue": "\"Key 'non-binary' not present in vocabulary\"",
     "output_type": "error",
     "traceback": [
      "\u001b[0;31m---------------------------------------------------------------------------\u001b[0m",
      "\u001b[0;31mKeyError\u001b[0m                                  Traceback (most recent call last)",
      "Cell \u001b[0;32mIn[24], line 1\u001b[0m\n\u001b[0;32m----> 1\u001b[0m \u001b[43mmodel2\u001b[49m\u001b[38;5;241;43m.\u001b[39;49m\u001b[43mmost_similar\u001b[49m\u001b[43m(\u001b[49m\u001b[43mpositive\u001b[49m\u001b[38;5;241;43m=\u001b[39;49m\u001b[43m[\u001b[49m\u001b[38;5;124;43m\"\u001b[39;49m\u001b[38;5;124;43mnon-binary\u001b[39;49m\u001b[38;5;124;43m\"\u001b[39;49m\u001b[43m]\u001b[49m\u001b[43m,\u001b[49m\u001b[43m \u001b[49m\u001b[43mnegative\u001b[49m\u001b[38;5;241;43m=\u001b[39;49m\u001b[43m[\u001b[49m\u001b[38;5;124;43m\"\u001b[39;49m\u001b[38;5;124;43mgender\u001b[39;49m\u001b[38;5;124;43m\"\u001b[39;49m\u001b[43m]\u001b[49m\u001b[43m,\u001b[49m\u001b[43m \u001b[49m\u001b[43mtopn\u001b[49m\u001b[38;5;241;43m=\u001b[39;49m\u001b[38;5;241;43m10\u001b[39;49m\u001b[43m)\u001b[49m\n",
      "File \u001b[0;32m/opt/conda/lib/python3.11/site-packages/gensim/models/keyedvectors.py:841\u001b[0m, in \u001b[0;36mKeyedVectors.most_similar\u001b[0;34m(self, positive, negative, topn, clip_start, clip_end, restrict_vocab, indexer)\u001b[0m\n\u001b[1;32m    838\u001b[0m         weight[idx] \u001b[38;5;241m=\u001b[39m item[\u001b[38;5;241m1\u001b[39m]\n\u001b[1;32m    840\u001b[0m \u001b[38;5;66;03m# compute the weighted average of all keys\u001b[39;00m\n\u001b[0;32m--> 841\u001b[0m mean \u001b[38;5;241m=\u001b[39m \u001b[38;5;28;43mself\u001b[39;49m\u001b[38;5;241;43m.\u001b[39;49m\u001b[43mget_mean_vector\u001b[49m\u001b[43m(\u001b[49m\u001b[43mkeys\u001b[49m\u001b[43m,\u001b[49m\u001b[43m \u001b[49m\u001b[43mweight\u001b[49m\u001b[43m,\u001b[49m\u001b[43m \u001b[49m\u001b[43mpre_normalize\u001b[49m\u001b[38;5;241;43m=\u001b[39;49m\u001b[38;5;28;43;01mTrue\u001b[39;49;00m\u001b[43m,\u001b[49m\u001b[43m \u001b[49m\u001b[43mpost_normalize\u001b[49m\u001b[38;5;241;43m=\u001b[39;49m\u001b[38;5;28;43;01mTrue\u001b[39;49;00m\u001b[43m,\u001b[49m\u001b[43m \u001b[49m\u001b[43mignore_missing\u001b[49m\u001b[38;5;241;43m=\u001b[39;49m\u001b[38;5;28;43;01mFalse\u001b[39;49;00m\u001b[43m)\u001b[49m\n\u001b[1;32m    842\u001b[0m all_keys \u001b[38;5;241m=\u001b[39m [\n\u001b[1;32m    843\u001b[0m     \u001b[38;5;28mself\u001b[39m\u001b[38;5;241m.\u001b[39mget_index(key) \u001b[38;5;28;01mfor\u001b[39;00m key \u001b[38;5;129;01min\u001b[39;00m keys \u001b[38;5;28;01mif\u001b[39;00m \u001b[38;5;28misinstance\u001b[39m(key, _KEY_TYPES) \u001b[38;5;129;01mand\u001b[39;00m \u001b[38;5;28mself\u001b[39m\u001b[38;5;241m.\u001b[39mhas_index_for(key)\n\u001b[1;32m    844\u001b[0m ]\n\u001b[1;32m    846\u001b[0m \u001b[38;5;28;01mif\u001b[39;00m indexer \u001b[38;5;129;01mis\u001b[39;00m \u001b[38;5;129;01mnot\u001b[39;00m \u001b[38;5;28;01mNone\u001b[39;00m \u001b[38;5;129;01mand\u001b[39;00m \u001b[38;5;28misinstance\u001b[39m(topn, \u001b[38;5;28mint\u001b[39m):\n",
      "File \u001b[0;32m/opt/conda/lib/python3.11/site-packages/gensim/models/keyedvectors.py:518\u001b[0m, in \u001b[0;36mKeyedVectors.get_mean_vector\u001b[0;34m(self, keys, weights, pre_normalize, post_normalize, ignore_missing)\u001b[0m\n\u001b[1;32m    516\u001b[0m         total_weight \u001b[38;5;241m+\u001b[39m\u001b[38;5;241m=\u001b[39m \u001b[38;5;28mabs\u001b[39m(weights[idx])\n\u001b[1;32m    517\u001b[0m     \u001b[38;5;28;01melif\u001b[39;00m \u001b[38;5;129;01mnot\u001b[39;00m ignore_missing:\n\u001b[0;32m--> 518\u001b[0m         \u001b[38;5;28;01mraise\u001b[39;00m \u001b[38;5;167;01mKeyError\u001b[39;00m(\u001b[38;5;124mf\u001b[39m\u001b[38;5;124m\"\u001b[39m\u001b[38;5;124mKey \u001b[39m\u001b[38;5;124m'\u001b[39m\u001b[38;5;132;01m{\u001b[39;00mkey\u001b[38;5;132;01m}\u001b[39;00m\u001b[38;5;124m'\u001b[39m\u001b[38;5;124m not present in vocabulary\u001b[39m\u001b[38;5;124m\"\u001b[39m)\n\u001b[1;32m    520\u001b[0m \u001b[38;5;28;01mif\u001b[39;00m total_weight \u001b[38;5;241m>\u001b[39m \u001b[38;5;241m0\u001b[39m:\n\u001b[1;32m    521\u001b[0m     mean \u001b[38;5;241m=\u001b[39m mean \u001b[38;5;241m/\u001b[39m total_weight\n",
      "\u001b[0;31mKeyError\u001b[0m: \"Key 'non-binary' not present in vocabulary\""
     ]
    }
   ],
   "source": [
    "model2.most_similar(positive=[\"non-binary\"], negative=[\"gender\"], topn=10)\n"
   ]
  },
  {
   "cell_type": "markdown",
   "id": "895402c7",
   "metadata": {},
   "source": [
    "Try another analogy. What is the result? In your mind, what shoudl the answer be?"
   ]
  },
  {
   "cell_type": "code",
   "execution_count": null,
   "id": "b5571e61",
   "metadata": {},
   "outputs": [],
   "source": [
    "model2.most_similar(positive=[\"god\", \"woman\"], negative=[\"man\"], topn=10)"
   ]
  },
  {
   "cell_type": "markdown",
   "id": "89147e32",
   "metadata": {},
   "source": [
    "# Exercise: Plot spatial relationships\n",
    "\n",
    "Pick a set of words that are related to each other in the same way. For instance you could use countries and their capitals, or adjectives and their superlatives\n",
    "\n",
    "e.g.\n",
    "\n",
    "```\n",
    "Rome - Italy\n",
    "\n",
    "Beijing - China\n",
    "\n",
    "Berlin - Germany\n",
    "\n",
    "Ottowa - Canada\n",
    "```\n",
    "\n",
    "superlatives\n",
    "``` \n",
    "bad - worse\n",
    "\n",
    "good - better\n",
    "\n",
    "warm - warmer\n",
    "\n",
    "red - redder\n",
    "\n",
    "blue - bluer\n",
    "```\n",
    "\n",
    "What do you notice?"
   ]
  },
  {
   "cell_type": "code",
   "execution_count": null,
   "id": "37299d7b",
   "metadata": {},
   "outputs": [],
   "source": [
    "\"\"\"\n",
    "Answer here\n",
    "\n",
    "You'll need to copy the code for visualization from above \n",
    "but edit certain parts to give you the embeddings of the words \n",
    "you want to look at\n",
    "\"\"\" \n",
    "\n",
    "\n",
    "\n",
    "\n",
    "\n",
    "\"\"\"\n",
    "\"\"\"\n",
    "\n",
    "\n",
    "# list of words to map\n",
    "target_word = \"universe\"\n",
    "selected_words = [w[0] for w in model2.most_similar(positive=[target_word], topn=100)] + [target_word]\n",
    "\n",
    "# list of embeddings for our target words\n",
    "embeddings = [model2[w] for w in selected_words] + model2[\"universe\"]\n",
    "\n",
    "# 2-D reduction of embeddings\n",
    "mapped_embeddings = TSNE(n_components=2, metric='cosine', init='pca').fit_transform(embeddings)\n",
    "\n",
    "%matplotlib inline\n",
    "\n",
    "\n",
    "plt.figure(figsize=(20,20))\n",
    "x = mapped_embeddings[:,0]\n",
    "y = mapped_embeddings[:,1]\n",
    "plt.scatter(x, y)\n",
    "\n",
    "\n",
    "# add labels to our map visualization\n",
    "for i, txt in enumerate(selected_words):\n",
    "    plt.annotate(txt, (x[i], y[i]))\n"
   ]
  },
  {
   "cell_type": "code",
   "execution_count": null,
   "id": "8d91505f-e7e3-412f-b04d-8d792b2591e5",
   "metadata": {},
   "outputs": [],
   "source": [
    "from sklearn.decomposition import PCA\n",
    "\n",
    "# list of words to map\n",
    "target_words = \"Rome Italy Beijing China Berlin Germany Ottowa Canada Athens Greece\".split(\" \")\n",
    "target_words = \"bad worse good better warm warmer red redder blue bluer\".split(\" \")\n",
    "\n",
    "\n",
    "# list of embeddings for our target words\n",
    "embeddings = np.array([model[w] for w in target_words])\n",
    "\n",
    "pca = PCA(n_components=2)\n",
    "components = pca.fit_transform(embeddings)\n",
    "\n",
    "%matplotlib inline\n",
    "\n",
    "\n",
    "plt.figure(figsize=(20,20))\n",
    "x = components[:,0]\n",
    "y = components[:,1]\n",
    "plt.scatter(x, y)\n",
    "\n",
    "\n",
    "# add labels to our map visualization\n",
    "for i, txt in enumerate(target_words):\n",
    "    plt.annotate(txt, (x[i], y[i]))"
   ]
  },
  {
   "cell_type": "markdown",
   "id": "1f2bbb6e",
   "metadata": {},
   "source": [
    "#  Training new embeddings"
   ]
  },
  {
   "cell_type": "markdown",
   "id": "8de4162f",
   "metadata": {},
   "source": [
    "Challenge: train a word2vec model on a corpus of your choosing or of your creation. Now that we have one line to do all of the work of yesterday, the challenge is getting the data into the right shape. The function\n",
    "\n",
    "`gensim.models.Word2Vec(documents, min_count=x, window=x, vector_size=x)`\n",
    "\n",
    "should be able to take any kind o\n"
   ]
  },
  {
   "cell_type": "markdown",
   "id": "291dccf6",
   "metadata": {},
   "source": [
    "## Load your own corpus"
   ]
  },
  {
   "cell_type": "markdown",
   "id": "0c3906e5",
   "metadata": {},
   "source": [
    "#### CSV Data"
   ]
  },
  {
   "cell_type": "markdown",
   "id": "cce9d7fc",
   "metadata": {},
   "source": [
    "Load the corpus into memory (returns a Dataset object, which is the exact kind of object we need)."
   ]
  },
  {
   "cell_type": "markdown",
   "id": "a2f8a9c0",
   "metadata": {},
   "source": [
    "We define a wrapper to deal with csv data with one column.\n",
    "\n",
    "Each column contains an abstract of an NLP paper. \n",
    "\n",
    "If your csv looks different, you will have to change this function to get the right column. "
   ]
  },
  {
   "cell_type": "code",
   "execution_count": null,
   "id": "0678e9e8",
   "metadata": {},
   "outputs": [],
   "source": [
    "class Corpus(object):\n",
    "\n",
    "    def __init__(self, filename):\n",
    "        self.filename = filename\n",
    "        self.nlp = spacy.blank(\"en\")\n",
    "        \n",
    "    def __iter__(self):\n",
    "        with open(self.filename, \"r\") as i:\n",
    "            reader = csv.reader(i, delimiter=\",\")\n",
    "            for _, abstract in reader:\n",
    "                tokens = [t.text.lower() for t in self.nlp(abstract)]\n",
    "                yield tokens\n",
    "                            "
   ]
  },
  {
   "cell_type": "markdown",
   "id": "4da4902e",
   "metadata": {},
   "source": [
    "Then you can create your corpus by initializing a Corpus object with the relative path to your csv"
   ]
  },
  {
   "cell_type": "code",
   "execution_count": null,
   "id": "8b0b2a51",
   "metadata": {},
   "outputs": [],
   "source": [
    "documents = Corpus(\"../data/arxiv.csv\")"
   ]
  },
  {
   "cell_type": "markdown",
   "id": "18ea0952",
   "metadata": {},
   "source": [
    "#### Load text from a website"
   ]
  },
  {
   "cell_type": "code",
   "execution_count": null,
   "id": "66a3c7f7",
   "metadata": {},
   "outputs": [],
   "source": [
    "url = 'https://theanarchistlibrary.org/library/the-invisible-committe-now.muse'\n",
    "res = requests.get(url)\n",
    "html_page = res.text\n",
    "\n",
    "# Parse the source code using BeautifulSoup\n",
    "soup = BeautifulSoup(html_page, 'html.parser')\n",
    "\n",
    "# Extract the plain text content\n",
    "text = soup.get_text()"
   ]
  },
  {
   "cell_type": "code",
   "execution_count": null,
   "id": "fc0f4172",
   "metadata": {},
   "outputs": [],
   "source": [
    "class Corpus(object):\n",
    "\n",
    "    def __init__(self, text):\n",
    "        self.nlp = spacy.blank(\"en\")\n",
    "        spaced_corpus = re.sub(r'(\\w)([.,?!;:])', r'\\1 \\2', text) \n",
    "        self.sentences = spaced_corpus.split('.')\n",
    "\n",
    "        \n",
    "    def __iter__(self):\n",
    "            \n",
    "               \n",
    "        # separate punctuation from previous word\n",
    "        \n",
    "        # split into sentences\n",
    "        for sentence in self.sentences:\n",
    "            words = sentence.split() # split on whitespace\n",
    "            words = [word.lower() for word in words]\n",
    "            yield words"
   ]
  },
  {
   "cell_type": "code",
   "execution_count": null,
   "id": "45c0c596",
   "metadata": {},
   "outputs": [],
   "source": [
    "corpus = Corpus(text)"
   ]
  },
  {
   "cell_type": "markdown",
   "id": "7fe118c2",
   "metadata": {},
   "source": [
    "train a model "
   ]
  },
  {
   "cell_type": "code",
   "execution_count": null,
   "id": "592743ff",
   "metadata": {},
   "outputs": [],
   "source": [
    "now_model = gensim.models.Word2Vec(corpus, min_count=0, window=5, vector_size=100)\n",
    "now_model = now_model.wv"
   ]
  },
  {
   "cell_type": "code",
   "execution_count": null,
   "id": "84205c1c",
   "metadata": {},
   "outputs": [],
   "source": [
    "now_model[\"now\"]"
   ]
  },
  {
   "cell_type": "code",
   "execution_count": null,
   "id": "6637cf0e",
   "metadata": {},
   "outputs": [],
   "source": []
  }
 ],
 "metadata": {
  "kernelspec": {
   "display_name": "Python 3 (ipykernel)",
   "language": "python",
   "name": "python3"
  },
  "language_info": {
   "codemirror_mode": {
    "name": "ipython",
    "version": 3
   },
   "file_extension": ".py",
   "mimetype": "text/x-python",
   "name": "python",
   "nbconvert_exporter": "python",
   "pygments_lexer": "ipython3",
   "version": "3.11.4"
  }
 },
 "nbformat": 4,
 "nbformat_minor": 5
}
